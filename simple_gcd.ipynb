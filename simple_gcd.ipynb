{
  "nbformat": 4,
  "nbformat_minor": 0,
  "metadata": {
    "colab": {
      "name": "simple gcd",
      "provenance": [],
      "authorship_tag": "ABX9TyPL7ppb5ZDhMaIO99A05wjM",
      "include_colab_link": true
    },
    "kernelspec": {
      "name": "python3",
      "display_name": "Python 3"
    },
    "language_info": {
      "name": "python"
    }
  },
  "cells": [
    {
      "cell_type": "markdown",
      "metadata": {
        "id": "view-in-github",
        "colab_type": "text"
      },
      "source": [
        "<a href=\"https://colab.research.google.com/github/Ashish1992210/python-learning/blob/main/simple_gcd.ipynb\" target=\"_parent\"><img src=\"https://colab.research.google.com/assets/colab-badge.svg\" alt=\"Open In Colab\"/></a>"
      ]
    },
    {
      "cell_type": "code",
      "metadata": {
        "id": "pssFNo3uRdFR"
      },
      "source": [
        ""
      ],
      "execution_count": null,
      "outputs": []
    },
    {
      "cell_type": "markdown",
      "metadata": {
        "id": "KIgcmXRERliH"
      },
      "source": [
        "Algorithms and programming:simple gcd\n"
      ]
    },
    {
      "cell_type": "code",
      "metadata": {
        "id": "Fowp1ujFR5G-"
      },
      "source": [
        "def gcd(m, n):\n",
        "  fm = []\n",
        "  for i in range(1, m+1):\n",
        "    if(m%i)==0:\n",
        "      fm.append(i)\n",
        "  fn = [] \n",
        "  for j in range(1, n+1):\n",
        "    if(n%j)==0:\n",
        "      fn.append(j)\n",
        "  cf = []\n",
        "  for f in fm:\n",
        "    if f in fn:\n",
        "      cf.append(f)\n",
        "  return(cf[-1])           \n"
      ],
      "execution_count": 2,
      "outputs": []
    },
    {
      "cell_type": "code",
      "metadata": {
        "colab": {
          "base_uri": "https://localhost:8080/"
        },
        "id": "c61lFNrdR6Fl",
        "outputId": "7df33900-e94c-434b-f5b8-15dd0598c2e7"
      },
      "source": [
        "gcd(14,63)"
      ],
      "execution_count": 4,
      "outputs": [
        {
          "output_type": "execute_result",
          "data": {
            "text/plain": [
              "7"
            ]
          },
          "metadata": {},
          "execution_count": 4
        }
      ]
    },
    {
      "cell_type": "code",
      "metadata": {
        "id": "vNuTKC6YUpTB"
      },
      "source": [
        ""
      ],
      "execution_count": null,
      "outputs": []
    }
  ]
}