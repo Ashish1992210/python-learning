{
  "nbformat": 4,
  "nbformat_minor": 0,
  "metadata": {
    "colab": {
      "name": "improving naive gcd",
      "provenance": [],
      "authorship_tag": "ABX9TyMixFBXS+psjqEwqPMHWi/p",
      "include_colab_link": true
    },
    "kernelspec": {
      "name": "python3",
      "display_name": "Python 3"
    },
    "language_info": {
      "name": "python"
    }
  },
  "cells": [
    {
      "cell_type": "markdown",
      "metadata": {
        "id": "view-in-github",
        "colab_type": "text"
      },
      "source": [
        "<a href=\"https://colab.research.google.com/github/Ashish1992210/python-learning/blob/main/improving_naive_gcd.ipynb\" target=\"_parent\"><img src=\"https://colab.research.google.com/assets/colab-badge.svg\" alt=\"Open In Colab\"/></a>"
      ]
    },
    {
      "cell_type": "markdown",
      "metadata": {
        "id": "LesfH0uTaT5E"
      },
      "source": [
        "A SHORTER PYTHON PROGRAM FOR FINDING *GCD*"
      ]
    },
    {
      "cell_type": "code",
      "metadata": {
        "id": "CdKpyq_DaMdt"
      },
      "source": [
        "def gcd (m,n):\n",
        "  cf = []\n",
        "  for i in range (1,min(m,n)+1):\n",
        "    if (m%i) == 0 and (n%i)==0:\n",
        "      cf.append(i)\n",
        "  return(cf[-1])     "
      ],
      "execution_count": 2,
      "outputs": []
    },
    {
      "cell_type": "code",
      "metadata": {
        "colab": {
          "base_uri": "https://localhost:8080/"
        },
        "id": "Cg8uTrTFboi3",
        "outputId": "79912c13-c7c4-4d17-ef81-e44a1715ed1c"
      },
      "source": [
        "gcd(49,14)"
      ],
      "execution_count": 3,
      "outputs": [
        {
          "output_type": "execute_result",
          "data": {
            "text/plain": [
              "7"
            ]
          },
          "metadata": {},
          "execution_count": 3
        }
      ]
    },
    {
      "cell_type": "code",
      "metadata": {
        "id": "oaa9h-FNbubC"
      },
      "source": [
        ""
      ],
      "execution_count": null,
      "outputs": []
    }
  ]
}